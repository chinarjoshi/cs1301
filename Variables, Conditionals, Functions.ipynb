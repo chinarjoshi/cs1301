{
 "cells": [
  {
   "cell_type": "markdown",
   "id": "51e91ebb",
   "metadata": {},
   "source": [
    "## Variables"
   ]
  },
  {
   "cell_type": "markdown",
   "id": "7f9cddc6",
   "metadata": {},
   "source": [
    "What do variables represent?\n",
    "\n",
    "What are the basic things we can store in a variable?\n",
    "\n",
    "What are the basic operations we can use on them? (And order of operations?)"
   ]
  },
  {
   "cell_type": "code",
   "execution_count": 15,
   "id": "b7d92b52",
   "metadata": {},
   "outputs": [
    {
     "data": {
      "text/plain": [
       "'He said \"hello\"'"
      ]
     },
     "execution_count": 15,
     "metadata": {},
     "output_type": "execute_result"
    }
   ],
   "source": [
    "x = 'He said \"hello\"'\n",
    "x"
   ]
  },
  {
   "cell_type": "code",
   "execution_count": 29,
   "id": "2127d6ac",
   "metadata": {},
   "outputs": [
    {
     "data": {
      "text/plain": [
       "8.0"
      ]
     },
     "execution_count": 29,
     "metadata": {},
     "output_type": "execute_result"
    }
   ],
   "source": [
    "x = 5\n",
    "y = 2.0\n",
    "\n",
    "x + y * (3 / 2) ** 1\n",
    "\n"
   ]
  },
  {
   "cell_type": "code",
   "execution_count": 18,
   "id": "cb1adc6e",
   "metadata": {},
   "outputs": [
    {
     "name": "stdout",
     "output_type": "stream",
     "text": [
      "50\n"
     ]
    }
   ],
   "source": [
    "x = 50.0\n",
    "print(int(x))"
   ]
  },
  {
   "cell_type": "code",
   "execution_count": 24,
   "id": "33fec8af",
   "metadata": {},
   "outputs": [
    {
     "ename": "SyntaxError",
     "evalue": "cannot assign to True (1770609971.py, line 1)",
     "output_type": "error",
     "traceback": [
      "\u001b[0;36m  Cell \u001b[0;32mIn[24], line 1\u001b[0;36m\u001b[0m\n\u001b[0;31m    True = 1\u001b[0m\n\u001b[0m    ^\u001b[0m\n\u001b[0;31mSyntaxError\u001b[0m\u001b[0;31m:\u001b[0m cannot assign to True\n"
     ]
    }
   ],
   "source": [
    "True = 1"
   ]
  },
  {
   "cell_type": "code",
   "execution_count": 28,
   "id": "0c4edf59",
   "metadata": {},
   "outputs": [
    {
     "name": "stdout",
     "output_type": "stream",
     "text": [
      "(False, <class 'bool'>)\n",
      "(0, <class 'int'>)\n",
      "(0.0, <class 'float'>)\n",
      "('Hello', <class 'str'>)\n"
     ]
    }
   ],
   "source": [
    "x = True and False # Boolean\n",
    "y = 0 # int, int()\n",
    "z = 0. # float\n",
    "s = 'Hello'\n",
    "\n",
    "print((x, type(x)))\n",
    "print((y, type(y)))\n",
    "print((z, type(z)))\n",
    "print((s, type(s)))"
   ]
  },
  {
   "cell_type": "markdown",
   "id": "2619975e",
   "metadata": {},
   "source": [
    "## Conditionals"
   ]
  },
  {
   "cell_type": "markdown",
   "id": "31b4115c",
   "metadata": {},
   "source": [
    "What is a boolean?\n",
    "\n",
    "How do we conditionally run code? Whats the syntax?\n",
    "\n",
    "What are the different types of branches we can use?"
   ]
  },
  {
   "cell_type": "code",
   "execution_count": 33,
   "id": "cd77594a",
   "metadata": {},
   "outputs": [
    {
     "name": "stdout",
     "output_type": "stream",
     "text": [
      "True\n",
      "True\n",
      "False\n"
     ]
    }
   ],
   "source": [
    "x = True\n",
    "y = False\n",
    "\n",
    "print(x and not y)\n",
    "print(x or y)\n",
    "print(not x and (x or y))"
   ]
  },
  {
   "cell_type": "code",
   "execution_count": 50,
   "id": "844efc96",
   "metadata": {},
   "outputs": [
    {
     "name": "stdout",
     "output_type": "stream",
     "text": [
      "Nope\n",
      "Hello\n"
     ]
    },
    {
     "data": {
      "text/plain": [
       "2"
      ]
     },
     "execution_count": 50,
     "metadata": {},
     "output_type": "execute_result"
    }
   ],
   "source": [
    "x = 34\n",
    "y = True and False\n",
    "\n",
    "if 0:\n",
    "    print(\"Sup\")\n",
    "if (True + 3) and False:\n",
    "    print(\"Nested\")\n",
    "elif \"False\" and True:\n",
    "    print(\"Nope\")\n",
    "    if \" \":\n",
    "        print(\"Hello\")\n",
    "    elif True:\n",
    "        print(\"Elif\")\n",
    "    else:\n",
    "        print(\"Illegal\")\n"
   ]
  },
  {
   "cell_type": "markdown",
   "id": "be40da4b",
   "metadata": {},
   "source": [
    "# Write a function named \"fun_ction\" that returns the sum of the square roots of the two integer arguments"
   ]
  },
  {
   "cell_type": "code",
   "execution_count": 78,
   "id": "4deb9064",
   "metadata": {},
   "outputs": [
    {
     "data": {
      "text/plain": [
       "5.0"
      ]
     },
     "execution_count": 78,
     "metadata": {},
     "output_type": "execute_result"
    }
   ],
   "source": [
    "def fun_ction(y, x):\n",
    "    return int(x ** (1/2)) + (y ** (1/2))\n",
    "\n",
    "fun_ction(9, 4)"
   ]
  },
  {
   "cell_type": "code",
   "execution_count": 73,
   "id": "70f98d6c",
   "metadata": {},
   "outputs": [
    {
     "ename": "SyntaxError",
     "evalue": "invalid syntax (3008671710.py, line 1)",
     "output_type": "error",
     "traceback": [
      "\u001b[0;36m  Cell \u001b[0;32mIn[73], line 1\u001b[0;36m\u001b[0m\n\u001b[0;31m    if = True:\u001b[0m\n\u001b[0m       ^\u001b[0m\n\u001b[0;31mSyntaxError\u001b[0m\u001b[0;31m:\u001b[0m invalid syntax\n"
     ]
    }
   ],
   "source": [
    "if = True:"
   ]
  },
  {
   "cell_type": "code",
   "execution_count": null,
   "id": "e740ec81",
   "metadata": {},
   "outputs": [],
   "source": []
  },
  {
   "cell_type": "code",
   "execution_count": null,
   "id": "94d7d941",
   "metadata": {},
   "outputs": [],
   "source": []
  },
  {
   "cell_type": "code",
   "execution_count": null,
   "id": "942a868d",
   "metadata": {},
   "outputs": [],
   "source": []
  },
  {
   "cell_type": "code",
   "execution_count": null,
   "id": "fb3d5add",
   "metadata": {},
   "outputs": [],
   "source": []
  },
  {
   "cell_type": "code",
   "execution_count": 52,
   "id": "9d012169",
   "metadata": {},
   "outputs": [
    {
     "name": "stdout",
     "output_type": "stream",
     "text": [
      "4\n"
     ]
    }
   ],
   "source": [
    "(10 + 3) and False or not (0)"
   ]
  },
  {
   "cell_type": "code",
   "execution_count": 3,
   "id": "e1e17d2c",
   "metadata": {},
   "outputs": [
    {
     "data": {
      "text/plain": [
       "1"
      ]
     },
     "execution_count": 3,
     "metadata": {},
     "output_type": "execute_result"
    }
   ],
   "source": [
    "2 and 0"
   ]
  },
  {
   "cell_type": "code",
   "execution_count": 14,
   "id": "967c4f6a",
   "metadata": {},
   "outputs": [
    {
     "data": {
      "text/plain": [
       "True"
      ]
     },
     "execution_count": 14,
     "metadata": {},
     "output_type": "execute_result"
    }
   ],
   "source": [
    "bool(\"\") == bool(0) == bool(0.0) != bool(1.1)"
   ]
  },
  {
   "cell_type": "markdown",
   "id": "958d5db1",
   "metadata": {},
   "source": [
    "## Parenthesis ()\n",
    "## Math ( * / // % , + -) High\n",
    "## Relational (>= <= > < == !=) (not in order)\n",
    "## Logical (not and or) Low"
   ]
  },
  {
   "cell_type": "markdown",
   "id": "f98ddaad",
   "metadata": {},
   "source": [
    "## Functions"
   ]
  },
  {
   "cell_type": "markdown",
   "id": "a79a40d0",
   "metadata": {},
   "source": [
    "What is a function? Why do we care?"
   ]
  },
  {
   "cell_type": "markdown",
   "id": "00c8fcee",
   "metadata": {},
   "source": [
    "How do we pass data to and fro a function?"
   ]
  },
  {
   "cell_type": "markdown",
   "id": "42b2b3b5",
   "metadata": {},
   "source": [
    "**Whats the difference between print and return**"
   ]
  },
  {
   "cell_type": "code",
   "execution_count": null,
   "id": "132823ba",
   "metadata": {},
   "outputs": [],
   "source": []
  },
  {
   "cell_type": "code",
   "execution_count": null,
   "id": "559eeaab",
   "metadata": {},
   "outputs": [],
   "source": []
  }
 ],
 "metadata": {
  "kernelspec": {
   "display_name": "Python 3 (ipykernel)",
   "language": "python",
   "name": "python3"
  },
  "language_info": {
   "codemirror_mode": {
    "name": "ipython",
    "version": 3
   },
   "file_extension": ".py",
   "mimetype": "text/x-python",
   "name": "python",
   "nbconvert_exporter": "python",
   "pygments_lexer": "ipython3",
   "version": "3.11.3"
  }
 },
 "nbformat": 4,
 "nbformat_minor": 5
}
